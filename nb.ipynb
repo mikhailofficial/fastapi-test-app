{
 "cells": [
  {
   "cell_type": "code",
   "execution_count": 2,
   "metadata": {},
   "outputs": [],
   "source": [
    "import requests\n",
    "from pprint import pprint"
   ]
  },
  {
   "cell_type": "code",
   "execution_count": 11,
   "metadata": {},
   "outputs": [
    {
     "name": "stdout",
     "output_type": "stream",
     "text": [
      "500\n"
     ]
    }
   ],
   "source": [
    "path = \"/api/events/2\"\n",
    "base_url = \"http://localhost:8002\"\n",
    "url = f\"{base_url}{path}\"\n",
    "response = requests.put(url, json={\"description\": \"ego\"})\n",
    "print(response.status_code)\n",
    "if response.ok:\n",
    "    data = response.json()\n",
    "    pprint(data)"
   ]
  },
  {
   "cell_type": "code",
   "execution_count": 17,
   "metadata": {},
   "outputs": [
    {
     "name": "stdout",
     "output_type": "stream",
     "text": [
      "True\n",
      "{'created_at': '2025-06-06T17:17:13.756340Z',\n",
      " 'description': 'my desc',\n",
      " 'id': 3,\n",
      " 'page': '/test+'}\n"
     ]
    }
   ],
   "source": [
    "path = \"/api/events/\"\n",
    "base_url = \"http://localhost:8002\"\n",
    "url = f\"{base_url}{path}\"\n",
    "response = requests.post(url, json={\"page\": \"/test+\"})\n",
    "print(response.ok)\n",
    "if response.ok:\n",
    "    data = response.json()\n",
    "    pprint(data)"
   ]
  },
  {
   "cell_type": "code",
   "execution_count": 18,
   "metadata": {},
   "outputs": [
    {
     "name": "stdout",
     "output_type": "stream",
     "text": [
      "200\n",
      "{'count': 3,\n",
      " 'results': [{'created_at': '2025-06-06T17:17:13.756340Z',\n",
      "              'description': 'my desc',\n",
      "              'id': 3,\n",
      "              'page': '/test+'},\n",
      "             {'created_at': '2025-06-06T17:17:12.749334Z',\n",
      "              'description': 'my desc',\n",
      "              'id': 2,\n",
      "              'page': '/test+'},\n",
      "             {'created_at': '2025-06-06T17:17:07.530112Z',\n",
      "              'description': 'my desc',\n",
      "              'id': 1,\n",
      "              'page': '/test+'}]}\n"
     ]
    }
   ],
   "source": [
    "path = \"/api/events/\"\n",
    "base_url = \"http://localhost:8002\"\n",
    "url = f\"{base_url}{path}\"\n",
    "response = requests.get(url)\n",
    "print(response.status_code)\n",
    "if response.ok:\n",
    "    data = response.json()\n",
    "    pprint(data)"
   ]
  },
  {
   "cell_type": "code",
   "execution_count": 8,
   "metadata": {},
   "outputs": [
    {
     "name": "stdout",
     "output_type": "stream",
     "text": [
      "405\n",
      "b'{\"detail\":\"Method Not Allowed\"}'\n"
     ]
    }
   ],
   "source": [
    "path = \"/api/events/7\"\n",
    "base_url = \"http://localhost:8002\"\n",
    "url = f\"{base_url}{path}\"\n",
    "response = requests.delete(url)\n",
    "print(response.status_code)\n",
    "if response.ok:\n",
    "    data = response.json()\n",
    "    pprint(data)\n",
    "else:\n",
    "    print(response.content)"
   ]
  }
 ],
 "metadata": {
  "kernelspec": {
   "display_name": "venv",
   "language": "python",
   "name": "python3"
  },
  "language_info": {
   "codemirror_mode": {
    "name": "ipython",
    "version": 3
   },
   "file_extension": ".py",
   "mimetype": "text/x-python",
   "name": "python",
   "nbconvert_exporter": "python",
   "pygments_lexer": "ipython3",
   "version": "3.13.3"
  }
 },
 "nbformat": 4,
 "nbformat_minor": 2
}
