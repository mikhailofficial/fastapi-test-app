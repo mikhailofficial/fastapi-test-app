{
 "cells": [
  {
   "cell_type": "code",
   "execution_count": 2,
   "metadata": {},
   "outputs": [],
   "source": [
    "import requests\n",
    "from pprint import pprint"
   ]
  },
  {
   "cell_type": "code",
   "execution_count": 26,
   "metadata": {},
   "outputs": [
    {
     "name": "stdout",
     "output_type": "stream",
     "text": [
      "200\n",
      "{'description': 'bluh',\n",
      " 'id': 1,\n",
      " 'page': '/test+',\n",
      " 'updated_at': '2025-06-06T18:02:57.296353Z'}\n"
     ]
    }
   ],
   "source": [
    "path = \"/api/events/1\"\n",
    "base_url = \"http://localhost:8002\"\n",
    "url = f\"{base_url}{path}\"\n",
    "response = requests.put(url, json={\"description\": \"bluh\"})\n",
    "print(response.status_code)\n",
    "if response.ok:\n",
    "    data = response.json()\n",
    "    pprint(data)"
   ]
  },
  {
   "cell_type": "code",
   "execution_count": 21,
   "metadata": {},
   "outputs": [
    {
     "name": "stdout",
     "output_type": "stream",
     "text": [
      "True\n",
      "{'description': 'my desc',\n",
      " 'id': 2,\n",
      " 'page': '/test+',\n",
      " 'updated_at': '2025-06-06T18:01:30.577020Z'}\n"
     ]
    }
   ],
   "source": [
    "path = \"/api/events/\"\n",
    "base_url = \"http://localhost:8002\"\n",
    "url = f\"{base_url}{path}\"\n",
    "response = requests.post(url, json={\"page\": \"/test+\"})\n",
    "print(response.ok)\n",
    "if response.ok:\n",
    "    data = response.json()\n",
    "    pprint(data)"
   ]
  },
  {
   "cell_type": "code",
   "execution_count": 27,
   "metadata": {},
   "outputs": [
    {
     "name": "stdout",
     "output_type": "stream",
     "text": [
      "200\n",
      "{'count': 2,\n",
      " 'results': [{'description': 'bluh',\n",
      "              'id': 1,\n",
      "              'page': '/test+',\n",
      "              'updated_at': '2025-06-06T18:02:57.296353Z'},\n",
      "             {'description': 'ego',\n",
      "              'id': 2,\n",
      "              'page': '/test+',\n",
      "              'updated_at': '2025-06-06T18:02:00.437768Z'}]}\n"
     ]
    }
   ],
   "source": [
    "path = \"/api/events/\"\n",
    "base_url = \"http://localhost:8002\"\n",
    "url = f\"{base_url}{path}\"\n",
    "response = requests.get(url)\n",
    "print(response.status_code)\n",
    "if response.ok:\n",
    "    data = response.json()\n",
    "    pprint(data)"
   ]
  }
 ],
 "metadata": {
  "kernelspec": {
   "display_name": "venv",
   "language": "python",
   "name": "python3"
  },
  "language_info": {
   "codemirror_mode": {
    "name": "ipython",
    "version": 3
   },
   "file_extension": ".py",
   "mimetype": "text/x-python",
   "name": "python",
   "nbconvert_exporter": "python",
   "pygments_lexer": "ipython3",
   "version": "3.13.3"
  }
 },
 "nbformat": 4,
 "nbformat_minor": 2
}
